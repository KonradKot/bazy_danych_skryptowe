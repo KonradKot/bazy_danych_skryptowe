{
 "cells": [
  {
   "cell_type": "markdown",
   "metadata": {},
   "source": [
    "***Obsługa przykładowego pliku YAML (historia transakcji)***"
   ]
  },
  {
   "cell_type": "code",
   "execution_count": 1,
   "metadata": {},
   "outputs": [
    {
     "name": "stdout",
     "output_type": "stream",
     "text": [
      "{'wlasciciel': {'imie': 'Jan', 'nazwisko': 'Nowak'}, 'numer': 123456789, 'historia': [{'data': datetime.date(2024, 1, 12), 'kwota': 250.23, 'tytul': 'woda'}, {'data': datetime.date(2024, 1, 13), 'kwota': 120.0, 'tytul': 'prad'}]}\n"
     ]
    }
   ],
   "source": [
    "import yaml\n",
    "\n",
    "data = None\n",
    "with open('historia.yaml', 'r') as file:\n",
    "    data = yaml.safe_load(file)\n",
    "\n",
    "print(data)"
   ]
  },
  {
   "cell_type": "code",
   "execution_count": 2,
   "metadata": {},
   "outputs": [
    {
     "name": "stdout",
     "output_type": "stream",
     "text": [
      "Konto: Jan Nowak (123456789)\n",
      "2024-01-12 250.23 za woda\n",
      "2024-01-13 120.0 za prad\n"
     ]
    }
   ],
   "source": [
    "print('Konto:', data['wlasciciel']['imie'], data['wlasciciel']['nazwisko'],\n",
    "        f'({data[\"numer\"]})')\n",
    "for i, v in enumerate(data['historia']):\n",
    "    print(v['data'], v['kwota'], 'za', v['tytul'])"
   ]
  },
  {
   "cell_type": "code",
   "execution_count": 16,
   "metadata": {},
   "outputs": [],
   "source": [
    "przelew_a = {\n",
    "    \"data\": \"2024-02-01\",\n",
    "    \"kwota\": 12.0,\n",
    "    \"tytul\": \"telefon\"\n",
    "}\n",
    "data['historia'].append(przelew_a)\n",
    "\n",
    "\n",
    "przelew_b = {\n",
    "    \"data\": \"2024-02-02\",\n",
    "    \"kwota\": 60.0,\n",
    "    \"tytul\": \"internet\"\n",
    "}\n",
    "data['historia'].append(przelew_b)"
   ]
  },
  {
   "cell_type": "code",
   "execution_count": 17,
   "metadata": {},
   "outputs": [],
   "source": [
    "saldo = []\n",
    "for i, v in enumerate(data['historia']):\n",
    "    saldo.append(v['kwota'])\n",
    "\n",
    "saldo = sum(saldo)\n",
    "data['saldo'] = saldo"
   ]
  },
  {
   "cell_type": "code",
   "execution_count": 18,
   "metadata": {},
   "outputs": [
    {
     "name": "stdout",
     "output_type": "stream",
     "text": [
      "Konto: Jan Nowak (123456789)\n",
      "Saldo: 442.23\n",
      "2024-01-12 250.23 za woda\n",
      "2024-01-13 120.0 za prad\n",
      "2024-02-01 12.0 za telefon\n",
      "2024-02-02 60.0 za internet\n"
     ]
    }
   ],
   "source": [
    "print('Konto:', data['wlasciciel']['imie'], data['wlasciciel']['nazwisko'],\n",
    "        f'({data[\"numer\"]})')\n",
    "print('Saldo:', saldo)\n",
    "for i, v in enumerate(data['historia']):\n",
    "    print(v['data'], v['kwota'], 'za', v['tytul'])"
   ]
  },
  {
   "cell_type": "code",
   "execution_count": 19,
   "metadata": {},
   "outputs": [
    {
     "name": "stdout",
     "output_type": "stream",
     "text": [
      "{'wlasciciel': {'imie': 'Jan', 'nazwisko': 'Nowak'}, 'numer': 123456789, 'historia': [{'data': datetime.date(2024, 1, 12), 'kwota': 250.23, 'tytul': 'woda'}, {'data': datetime.date(2024, 1, 13), 'kwota': 120.0, 'tytul': 'prad'}, {'data': '2024-02-01', 'kwota': 12.0, 'tytul': 'telefon'}, {'data': '2024-02-02', 'kwota': 60.0, 'tytul': 'internet'}], 'saldo': 442.23}\n"
     ]
    }
   ],
   "source": [
    "print(data) # wyswietlenie danych"
   ]
  },
  {
   "cell_type": "code",
   "execution_count": 20,
   "metadata": {},
   "outputs": [],
   "source": [
    "with open('nowa_historia.yaml', 'w') as file:  #zapisz zmodyfikowane dane do nowego pliku (\"nowa_historia.yaml\")\n",
    "    yaml.safe_dump(data, file)"
   ]
  },
  {
   "cell_type": "markdown",
   "metadata": {},
   "source": [
    "***Podstawy tworzenia właściwego serwera REST API***"
   ]
  },
  {
   "cell_type": "code",
   "execution_count": 3,
   "metadata": {},
   "outputs": [
    {
     "name": "stdout",
     "output_type": "stream",
     "text": [
      "Posortowana lista:\n",
      "[11, 12, 22, 25, 34, 64, 90]\n"
     ]
    }
   ],
   "source": [
    "def bubble_sort(arr):\n",
    "    n = len(arr)\n",
    "    for i in range(n):\n",
    "        for j in range(0, n-i-1):\n",
    "            if arr[j] > arr[j+1]:\n",
    "                arr[j], arr[j+1] = arr[j+1], arr[j]\n",
    "    return arr\n",
    "\n",
    "# Przykładowa lista do posortowania\n",
    "arr = [64, 34, 25, 12, 22, 11, 90]\n",
    "\n",
    "sorted_arr = bubble_sort(arr)\n",
    "print(\"Posortowana lista:\")\n",
    "print(sorted_arr)"
   ]
  }
 ],
 "metadata": {
  "kernelspec": {
   "display_name": "Python 3",
   "language": "python",
   "name": "python3"
  },
  "language_info": {
   "codemirror_mode": {
    "name": "ipython",
    "version": 3
   },
   "file_extension": ".py",
   "mimetype": "text/x-python",
   "name": "python",
   "nbconvert_exporter": "python",
   "pygments_lexer": "ipython3",
   "version": "3.8.0"
  },
  "orig_nbformat": 4
 },
 "nbformat": 4,
 "nbformat_minor": 2
}
