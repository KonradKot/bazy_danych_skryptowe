{
 "cells": [
  {
   "cell_type": "markdown",
   "metadata": {},
   "source": [
    "# Połączenie z bazą danych i podstawowa obsługa"
   ]
  },
  {
   "cell_type": "code",
   "execution_count": 103,
   "metadata": {},
   "outputs": [],
   "source": [
    "from pymongo import MongoClient\n",
    "\n",
    "def create_connection(db_url):\n",
    "    client = MongoClient(db_url) # tworzę połączenie z baza danych\n",
    "    return client,client['builder_Konrad'] #tworzę indiwidualnaą baZe danych z jej nazwą\n",
    "\n",
    "\n",
    "db_url = \"mongodb://localhost:27017\" # daje link do bazy danych - lokalnej\n",
    "client,db = create_connection(db_url) #tworzę połączenie z bazą danych"
   ]
  },
  {
   "cell_type": "code",
   "execution_count": 104,
   "metadata": {},
   "outputs": [],
   "source": [
    "def create_collection(db,collection_name):\n",
    "    return db[collection_name]\n",
    "\n",
    "cities = create_collection(db,'cities')\n",
    "buildings = create_collection(db,'buildings')\n",
    "\n",
    "# dodaje jedno miasto"
   ]
  },
  {
   "cell_type": "code",
   "execution_count": 105,
   "metadata": {},
   "outputs": [
    {
     "name": "stdout",
     "output_type": "stream",
     "text": [
      "ID nowego miasta 6651fb112412fd105dbb6d92\n"
     ]
    }
   ],
   "source": [
    "def create_city(collection,city):\n",
    "    result = collection.insert_one(city) # dodaje jeden fragment w formacie słownika\n",
    "    return result.inserted_id # zwracam ID dla utowrzonego miata\n",
    "\n",
    "\n",
    "city_id = create_city(cities,{'name':\"Poznan\",'latidude':52.2,'longitude':17.0})\n",
    "print(f'ID nowego miasta {city_id}') # wyświetla mID nowego miasta\n",
    "\n",
    "#przejrzę miasta w bazie\n",
    "# zapiszę ID wstawionego miasta "
   ]
  },
  {
   "cell_type": "code",
   "execution_count": 106,
   "metadata": {},
   "outputs": [
    {
     "name": "stdout",
     "output_type": "stream",
     "text": [
      "{'_id': ObjectId('6651fae62412fd105dbb6d8e'), 'name': 'Poznan', 'latidude': 52.2, 'longitude': 17.0}\n",
      "{'_id': ObjectId('6651fb112412fd105dbb6d92'), 'name': 'Poznan', 'latidude': 52.2, 'longitude': 17.0}\n",
      "Poznan ma ID: 6651fae62412fd105dbb6d8e\n"
     ]
    }
   ],
   "source": [
    "cursor = cities.find()\n",
    "\n",
    "for doc in cursor:\n",
    "    print(doc)\n",
    "\n",
    "poznan = cities.find_one({'name':'Poznan'}) # znajduje baze danych po nazwie\n",
    "poznan_id = poznan['_id'] # tak wyswietlam dane id\n",
    "print('Poznan ma ID:',poznan_id)"
   ]
  },
  {
   "cell_type": "code",
   "execution_count": 107,
   "metadata": {},
   "outputs": [],
   "source": [
    "# wstawię dwa budynki do tego samego miasta\n",
    "\n",
    "def create_building(collection,building):\n",
    "    result = collection.insert_one(building)\n",
    "    return result.inserted_id\n",
    "\n",
    "buildings_1 = create_building(buildings,{'city_id':poznan_id,\"name\":\"Galeria\",\"height\":17.0,'build_year':2010})\n",
    "buildings_2 = create_building(buildings,{'city_id':poznan_id,\"name\":\"Teatr\",\"height\":25.5,'build_year':1950})"
   ]
  },
  {
   "cell_type": "code",
   "execution_count": 108,
   "metadata": {},
   "outputs": [
    {
     "name": "stdout",
     "output_type": "stream",
     "text": [
      "wstawiono Galerię o ID:  6651fb112412fd105dbb6d93\n",
      "Wstawiono Teatr o ID:  6651fb112412fd105dbb6d94\n"
     ]
    }
   ],
   "source": [
    "print(\"wstawiono Galerię o ID: \", buildings_1)\n",
    "print(\"Wstawiono Teatr o ID: \", buildings_2)"
   ]
  },
  {
   "cell_type": "code",
   "execution_count": 109,
   "metadata": {},
   "outputs": [
    {
     "name": "stdout",
     "output_type": "stream",
     "text": [
      "{'_id': ObjectId('6651f9262412fd105dbb6d7b'), 'city_id': ObjectId('6651f9262412fd105dbb6d7a'), 'name': 'Galeria', 'height': 17.0, 'build_year': 2010}\n",
      "{'_id': ObjectId('6651f92c2412fd105dbb6d7f'), 'city_id': ObjectId('6651f9262412fd105dbb6d7a'), 'name': 'Galeria', 'height': 17.0, 'build_year': 2010}\n",
      "{'_id': ObjectId('6651fae62412fd105dbb6d8f'), 'city_id': ObjectId('6651fae62412fd105dbb6d8e'), 'name': 'Galeria', 'height': 17.0, 'build_year': 2010}\n",
      "{'_id': ObjectId('6651fb112412fd105dbb6d93'), 'city_id': ObjectId('6651fae62412fd105dbb6d8e'), 'name': 'Galeria', 'height': 17.0, 'build_year': 2010}\n",
      "{'_id': ObjectId('6651fb112412fd105dbb6d94'), 'city_id': ObjectId('6651fae62412fd105dbb6d8e'), 'name': 'Teatr', 'height': 25.5, 'build_year': 1950}\n"
     ]
    }
   ],
   "source": [
    "# wyswietla wszystkie budynki w bazie\n",
    "\n",
    "cursor = buildings.find()\n",
    "\n",
    "for doc in cursor:\n",
    "    print(doc)"
   ]
  },
  {
   "cell_type": "code",
   "execution_count": 110,
   "metadata": {},
   "outputs": [
    {
     "name": "stdout",
     "output_type": "stream",
     "text": [
      "{'_id': ObjectId('6651f9262412fd105dbb6d7b'), 'city_id': ObjectId('6651f9262412fd105dbb6d7a'), 'name': 'Galeria', 'height': 17.0, 'build_year': 2010, 'city': []}\n",
      "{'_id': ObjectId('6651f92c2412fd105dbb6d7f'), 'city_id': ObjectId('6651f9262412fd105dbb6d7a'), 'name': 'Galeria', 'height': 17.0, 'build_year': 2010, 'city': []}\n",
      "{'_id': ObjectId('6651fae62412fd105dbb6d8f'), 'city_id': ObjectId('6651fae62412fd105dbb6d8e'), 'name': 'Galeria', 'height': 17.0, 'build_year': 2010, 'city': []}\n",
      "{'_id': ObjectId('6651fb112412fd105dbb6d93'), 'city_id': ObjectId('6651fae62412fd105dbb6d8e'), 'name': 'Galeria', 'height': 17.0, 'build_year': 2010, 'city': []}\n",
      "{'_id': ObjectId('6651fb112412fd105dbb6d94'), 'city_id': ObjectId('6651fae62412fd105dbb6d8e'), 'name': 'Teatr', 'height': 25.5, 'build_year': 1950, 'city': []}\n"
     ]
    }
   ],
   "source": [
    "# połącze dwie kolekcje pod każdym miatem znajdą się szczegóły miasta\n",
    "result = buildings.aggregate([\n",
    "    {\n",
    "        \"$lookup\":{\n",
    "            \"from\":\"cites\",\n",
    "            \"localField\":\"city_id\",\n",
    "            \"foreignField\":\"_id\",\n",
    "            \"as\":\"city\"\n",
    "        }\n",
    "    }\n",
    "])\n",
    "\n",
    "for doc in result:\n",
    "    print(doc)"
   ]
  },
  {
   "cell_type": "code",
   "execution_count": 111,
   "metadata": {},
   "outputs": [],
   "source": [
    "# zaaktualizuje wysokość budynku\n",
    "\n",
    "def update_buildind_height(buildings,building_id,height):\n",
    "    buildings.update_one({\"id\":building_id},{\"$set\":{\"height\":height}})\n",
    "\n",
    "galeria = buildings.find_one({\"name\":\"Galeria\"})\n",
    "update_buildind_height(buildings,galeria['_id'],25.4)"
   ]
  },
  {
   "cell_type": "code",
   "execution_count": 112,
   "metadata": {},
   "outputs": [],
   "source": [
    "#usuń budynek\n",
    "\n",
    "def delete_building(buildings,building_id):\n",
    "    buildings.delete_one({\"_id\":building_id})\n",
    "\n",
    "teatr = buildings.find_one({\"name\":\"Teatr\"})\n",
    "delete_building(buildings,teatr[\"_id\"])\n",
    "\n",
    "#client.close()"
   ]
  },
  {
   "cell_type": "markdown",
   "metadata": {},
   "source": [
    "# Serwer umożliwiający obsługę bazy danych MongoDB"
   ]
  },
  {
   "cell_type": "code",
   "execution_count": 113,
   "metadata": {},
   "outputs": [
    {
     "ename": "RuntimeError",
     "evalue": "asyncio.run() cannot be called from a running event loop",
     "output_type": "error",
     "traceback": [
      "\u001b[1;31m---------------------------------------------------------------------------\u001b[0m",
      "\u001b[1;31mRuntimeError\u001b[0m                              Traceback (most recent call last)",
      "Cell \u001b[1;32mIn[113], line 27\u001b[0m\n\u001b[0;32m     23\u001b[0m     city[\u001b[38;5;124m'\u001b[39m\u001b[38;5;124m_id\u001b[39m\u001b[38;5;124m'\u001b[39m] \u001b[38;5;241m=\u001b[39m \u001b[38;5;28mstr\u001b[39m(city[\u001b[38;5;124m'\u001b[39m\u001b[38;5;124m_id\u001b[39m\u001b[38;5;124m'\u001b[39m])\n\u001b[0;32m     26\u001b[0m \u001b[38;5;28;01mif\u001b[39;00m \u001b[38;5;18m__name__\u001b[39m\u001b[38;5;241m==\u001b[39m\u001b[38;5;124m'\u001b[39m\u001b[38;5;124m__main__\u001b[39m\u001b[38;5;124m'\u001b[39m:\n\u001b[1;32m---> 27\u001b[0m     \u001b[43muvicorn\u001b[49m\u001b[38;5;241;43m.\u001b[39;49m\u001b[43mrun\u001b[49m\u001b[43m(\u001b[49m\u001b[43mapp\u001b[49m\u001b[43m)\u001b[49m\n\u001b[0;32m     29\u001b[0m \u001b[38;5;66;03m#zamknij klienta\u001b[39;00m\n\u001b[0;32m     30\u001b[0m \u001b[38;5;66;03m#client.close()\u001b[39;00m\n",
      "File \u001b[1;32m~\\AppData\\Local\\Programs\\Python\\Python312\\Lib\\site-packages\\uvicorn\\main.py:575\u001b[0m, in \u001b[0;36mrun\u001b[1;34m(app, host, port, uds, fd, loop, http, ws, ws_max_size, ws_max_queue, ws_ping_interval, ws_ping_timeout, ws_per_message_deflate, lifespan, interface, reload, reload_dirs, reload_includes, reload_excludes, reload_delay, workers, env_file, log_config, log_level, access_log, proxy_headers, server_header, date_header, forwarded_allow_ips, root_path, limit_concurrency, backlog, limit_max_requests, timeout_keep_alive, timeout_graceful_shutdown, ssl_keyfile, ssl_certfile, ssl_keyfile_password, ssl_version, ssl_cert_reqs, ssl_ca_certs, ssl_ciphers, headers, use_colors, app_dir, factory, h11_max_incomplete_event_size)\u001b[0m\n\u001b[0;32m    573\u001b[0m     Multiprocess(config, target\u001b[38;5;241m=\u001b[39mserver\u001b[38;5;241m.\u001b[39mrun, sockets\u001b[38;5;241m=\u001b[39m[sock])\u001b[38;5;241m.\u001b[39mrun()\n\u001b[0;32m    574\u001b[0m \u001b[38;5;28;01melse\u001b[39;00m:\n\u001b[1;32m--> 575\u001b[0m     \u001b[43mserver\u001b[49m\u001b[38;5;241;43m.\u001b[39;49m\u001b[43mrun\u001b[49m\u001b[43m(\u001b[49m\u001b[43m)\u001b[49m\n\u001b[0;32m    576\u001b[0m \u001b[38;5;28;01mif\u001b[39;00m config\u001b[38;5;241m.\u001b[39muds \u001b[38;5;129;01mand\u001b[39;00m os\u001b[38;5;241m.\u001b[39mpath\u001b[38;5;241m.\u001b[39mexists(config\u001b[38;5;241m.\u001b[39muds):\n\u001b[0;32m    577\u001b[0m     os\u001b[38;5;241m.\u001b[39mremove(config\u001b[38;5;241m.\u001b[39muds)  \u001b[38;5;66;03m# pragma: py-win32\u001b[39;00m\n",
      "File \u001b[1;32m~\\AppData\\Local\\Programs\\Python\\Python312\\Lib\\site-packages\\uvicorn\\server.py:65\u001b[0m, in \u001b[0;36mServer.run\u001b[1;34m(self, sockets)\u001b[0m\n\u001b[0;32m     63\u001b[0m \u001b[38;5;28;01mdef\u001b[39;00m \u001b[38;5;21mrun\u001b[39m(\u001b[38;5;28mself\u001b[39m, sockets: \u001b[38;5;28mlist\u001b[39m[socket\u001b[38;5;241m.\u001b[39msocket] \u001b[38;5;241m|\u001b[39m \u001b[38;5;28;01mNone\u001b[39;00m \u001b[38;5;241m=\u001b[39m \u001b[38;5;28;01mNone\u001b[39;00m) \u001b[38;5;241m-\u001b[39m\u001b[38;5;241m>\u001b[39m \u001b[38;5;28;01mNone\u001b[39;00m:\n\u001b[0;32m     64\u001b[0m     \u001b[38;5;28mself\u001b[39m\u001b[38;5;241m.\u001b[39mconfig\u001b[38;5;241m.\u001b[39msetup_event_loop()\n\u001b[1;32m---> 65\u001b[0m     \u001b[38;5;28;01mreturn\u001b[39;00m \u001b[43masyncio\u001b[49m\u001b[38;5;241;43m.\u001b[39;49m\u001b[43mrun\u001b[49m\u001b[43m(\u001b[49m\u001b[38;5;28;43mself\u001b[39;49m\u001b[38;5;241;43m.\u001b[39;49m\u001b[43mserve\u001b[49m\u001b[43m(\u001b[49m\u001b[43msockets\u001b[49m\u001b[38;5;241;43m=\u001b[39;49m\u001b[43msockets\u001b[49m\u001b[43m)\u001b[49m\u001b[43m)\u001b[49m\n",
      "File \u001b[1;32m~\\AppData\\Local\\Programs\\Python\\Python312\\Lib\\asyncio\\runners.py:190\u001b[0m, in \u001b[0;36mrun\u001b[1;34m(main, debug, loop_factory)\u001b[0m\n\u001b[0;32m    161\u001b[0m \u001b[38;5;250m\u001b[39m\u001b[38;5;124;03m\"\"\"Execute the coroutine and return the result.\u001b[39;00m\n\u001b[0;32m    162\u001b[0m \n\u001b[0;32m    163\u001b[0m \u001b[38;5;124;03mThis function runs the passed coroutine, taking care of\u001b[39;00m\n\u001b[1;32m   (...)\u001b[0m\n\u001b[0;32m    186\u001b[0m \u001b[38;5;124;03m    asyncio.run(main())\u001b[39;00m\n\u001b[0;32m    187\u001b[0m \u001b[38;5;124;03m\"\"\"\u001b[39;00m\n\u001b[0;32m    188\u001b[0m \u001b[38;5;28;01mif\u001b[39;00m events\u001b[38;5;241m.\u001b[39m_get_running_loop() \u001b[38;5;129;01mis\u001b[39;00m \u001b[38;5;129;01mnot\u001b[39;00m \u001b[38;5;28;01mNone\u001b[39;00m:\n\u001b[0;32m    189\u001b[0m     \u001b[38;5;66;03m# fail fast with short traceback\u001b[39;00m\n\u001b[1;32m--> 190\u001b[0m     \u001b[38;5;28;01mraise\u001b[39;00m \u001b[38;5;167;01mRuntimeError\u001b[39;00m(\n\u001b[0;32m    191\u001b[0m         \u001b[38;5;124m\"\u001b[39m\u001b[38;5;124masyncio.run() cannot be called from a running event loop\u001b[39m\u001b[38;5;124m\"\u001b[39m)\n\u001b[0;32m    193\u001b[0m \u001b[38;5;28;01mwith\u001b[39;00m Runner(debug\u001b[38;5;241m=\u001b[39mdebug, loop_factory\u001b[38;5;241m=\u001b[39mloop_factory) \u001b[38;5;28;01mas\u001b[39;00m runner:\n\u001b[0;32m    194\u001b[0m     \u001b[38;5;28;01mreturn\u001b[39;00m runner\u001b[38;5;241m.\u001b[39mrun(main)\n",
      "\u001b[1;31mRuntimeError\u001b[0m: asyncio.run() cannot be called from a running event loop"
     ]
    }
   ],
   "source": [
    "import json\n",
    "from fastapi import FastAPI\n",
    "import uvicorn\n",
    "\n",
    "app = FastAPI()\n",
    "#dodam możliwość pobrania wszystkich miast\n",
    "@app.get('/cities')\n",
    "def cities_get():\n",
    "    all_cities = cities.find()\n",
    "    output = [city for city in all_cities]\n",
    "    return output\n",
    "\n",
    "# zamień\n",
    "all_cities = cities.find()\n",
    "# na \n",
    "all_cities = cities.find({}, {'_id': False})\n",
    "\n",
    "# do kodu\n",
    "all_cities = cities.find()\n",
    "output = [city for city in all_cities]\n",
    "# dodaj\n",
    "for city in output:\n",
    "    city['_id'] = str(city['_id'])\n",
    "\n",
    "\n",
    "if __name__=='__main__':\n",
    "    uvicorn.run(app)\n",
    "\n",
    "#zamknij klienta\n",
    "#client.close()"
   ]
  }
 ],
 "metadata": {
  "kernelspec": {
   "display_name": "Python 3",
   "language": "python",
   "name": "python3"
  },
  "language_info": {
   "codemirror_mode": {
    "name": "ipython",
    "version": 3
   },
   "file_extension": ".py",
   "mimetype": "text/x-python",
   "name": "python",
   "nbconvert_exporter": "python",
   "pygments_lexer": "ipython3",
   "version": "3.12.3"
  }
 },
 "nbformat": 4,
 "nbformat_minor": 2
}
