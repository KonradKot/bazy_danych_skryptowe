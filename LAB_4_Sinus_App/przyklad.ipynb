{
 "cells": [
  {
   "cell_type": "markdown",
   "metadata": {},
   "source": [
    "***Laboratorium 5***"
   ]
  },
  {
   "cell_type": "code",
   "execution_count": null,
   "metadata": {},
   "outputs": [],
   "source": [
    "from dash import Dash, html\n",
    "app = Dash(__name__)\n",
    "app.layout = html.Div([\n",
    "    html.Div(\"Hello World!\")\n",
    "])"
   ]
  },
  {
   "cell_type": "code",
   "execution_count": null,
   "metadata": {},
   "outputs": [],
   "source": [
    "from dash import dcc, Output, Input, callback\n",
    "import plotly.express as px\n",
    "\n",
    "app.layout = html.Div([\n",
    "    html.Div(\"Położenie użytkowników\"),\n",
    "    dcc.Slider(id=\"slider\", min=5, max=10, value=5,\n",
    "               marks={i: str(i) for i in range(5, 11)}),\n",
    "    dcc.Graph(\"wykres\")\n",
    "])\n",
    "@callback(\n",
    "    Output('wykres', 'figure'),\n",
    "    Input('slider', 'value')\n",
    ")\n",
    "def update_figure(ile_liczb):\n",
    "    ile_liczb = int(ile_liczb)\n",
    "    x = [1, 2, 3, 4, 5, 6, 7, 8, 9, 10]\n",
    "    y = [4, 1, 4, 2, 5, 1, 5, 1, 2, 5]\n",
    "    return px.line(\n",
    "        x=x[:ile_liczb],\n",
    "        y=y[:ile_liczb],\n",
    "        markers=True\n",
    "    )"
   ]
  },
  {
   "cell_type": "code",
   "execution_count": null,
   "metadata": {},
   "outputs": [],
   "source": [
    "from dash import dash_table\n",
    "import pandas as pd\n",
    "\n",
    "# wczytaj plik csv z pogodą (można wspomóc się stroną https://www.convertcsv.com/csv-viewer-editor.htm)\n",
    "df = pd.read_csv('pogoda.csv')\n",
    "\n",
    "app.layout.children.append(\n",
    "    dash_table.DataTable(\n",
    "        data=df.to_dict('records'), page_size=7\n",
    "    )\n",
    ")"
   ]
  },
  {
   "cell_type": "code",
   "execution_count": null,
   "metadata": {},
   "outputs": [],
   "source": [
    "# dodaj menu wyboru kraju (drop down)\n",
    "kraje = options=df['kraj'].unique()\n",
    "app.layout.children.append(\n",
    "    dcc.Dropdown(\n",
    "        options=kraje,\n",
    "        value=None,\n",
    "        id='wybor-kraju',\n",
    "    )\n",
    ")\n",
    "\n",
    "# dodaj menu wyboru dzien/noc (radio buttons)\n",
    "app.layout.children.append(\n",
    "    dcc.RadioItems(\n",
    "        options=['dzien', 'noc'],\n",
    "        value='dzien',\n",
    "        id='wybor-dzien-noc'\n",
    "    )\n",
    ")"
   ]
  },
  {
   "cell_type": "code",
   "execution_count": null,
   "metadata": {},
   "outputs": [],
   "source": [
    "app.layout.children.append(\n",
    "    dcc.Graph(\n",
    "        figure={},\n",
    "        id='wykres-temperatury'  \n",
    "    )\n",
    ")"
   ]
  },
  {
   "cell_type": "code",
   "execution_count": null,
   "metadata": {},
   "outputs": [],
   "source": [
    "@callback(\n",
    "    Output('wykres-temperatury', 'figure'),\n",
    "    Input('wybor-kraju', 'value'),\n",
    "    Input('wybor-dzien-noc', 'value')   \n",
    ")\n",
    "def update_temperature_figure(kraj, dzien):\n",
    "    if dzien == 'dzien':\n",
    "        dzien = 'temperatura_dzien'\n",
    "    else:\n",
    "        dzien = 'temperatura_noc'\n",
    "    if kraj is None:\n",
    "        return px.histogram(df, x='kraj', y=dzien, histfunc='avg')\n",
    "    else:\n",
    "        df_filter = df[df['kraj'] == kraj]\n",
    "        return px.bar(df_filter, x='data', y=dzien)"
   ]
  },
  {
   "cell_type": "code",
   "execution_count": null,
   "metadata": {},
   "outputs": [],
   "source": [
    "if __name__ == '__main__':\n",
    "    app.run(debug=True)"
   ]
  }
 ],
 "metadata": {
  "kernelspec": {
   "display_name": "Python 3",
   "language": "python",
   "name": "python3"
  },
  "language_info": {
   "codemirror_mode": {
    "name": "ipython",
    "version": 3
   },
   "file_extension": ".py",
   "mimetype": "text/x-python",
   "name": "python",
   "nbconvert_exporter": "python",
   "pygments_lexer": "ipython3",
   "version": "3.12.2"
  },
  "orig_nbformat": 4
 },
 "nbformat": 4,
 "nbformat_minor": 2
}
