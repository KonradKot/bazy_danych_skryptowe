{
 "cells": [
  {
   "cell_type": "markdown",
   "metadata": {},
   "source": [
    "***\n",
    "Zadanie 1.\n",
    "***"
   ]
  },
  {
   "cell_type": "code",
   "execution_count": 11,
   "metadata": {},
   "outputs": [
    {
     "data": {
      "text/html": [
       "\n",
       "        <iframe\n",
       "            width=\"100%\"\n",
       "            height=\"650\"\n",
       "            src=\"http://127.0.0.1:8050/\"\n",
       "            frameborder=\"0\"\n",
       "            allowfullscreen\n",
       "            \n",
       "        ></iframe>\n",
       "        "
      ],
      "text/plain": [
       "<IPython.lib.display.IFrame at 0x1db9593f370>"
      ]
     },
     "metadata": {},
     "output_type": "display_data"
    }
   ],
   "source": [
    "import numpy as np\n",
    "from dash import Dash, html\n",
    "from dash import dcc, Output, Input, callback\n",
    "import plotly.express as px\n",
    "\n",
    "app = Dash(__name__)\n",
    "\n",
    "AMPLITUDA_MIN=-1\n",
    "AMPLITUDA_MAX=1\n",
    "\n",
    "app.layout = html.Div([\n",
    "html.Div(\"Wykres sinusa\"),\n",
    "html.Label(\"Amplituda\"),\n",
    "dcc.Slider(\n",
    "    id=\"amplituda-slider\",\n",
    "    min=0,\n",
    "    max=1,\n",
    "    step=0.1,\n",
    "    value=0.5,\n",
    "    marks={i /10: str(i / 10) for i in range(11)}\n",
    "),\n",
    "html.Label(\"Czestotliwosc (Hz): \"),\n",
    "dcc.Slider(\n",
    "    id=\"czestotliwosc-slider\",\n",
    "    min=1,\n",
    "    max=100,\n",
    "    step=1,\n",
    "    value=10,\n",
    "    marks={i:str(i) for i in range (0,101,10)}\n",
    "),\n",
    "    dcc.Graph(id=\"sinus-graph\")\n",
    "])\n",
    "\n",
    "@app.callback(\n",
    "    Output(\"sinus-graph\",\"figure\"),\n",
    "    [Input(\"amplituda-slider\",\"value\"),\n",
    "    Input(\"czestotliwosc-slider\",\"value\")]\n",
    ")\n",
    "def update_graph(A, f):\n",
    "\n",
    "    t = np.linspace(0,1,1000)\n",
    "    y = A* np.sin(2*np.pi * t * f)\n",
    "\n",
    "    fig = px.line(x=t, y=y, labels={'x':'Czas(s)','y':'Amplituda'}, title=\"Wykres sinusa\")\n",
    "\n",
    "    fig.update_yaxes(range=[AMPLITUDA_MIN,AMPLITUDA_MAX])\n",
    "\n",
    "    return fig\n",
    "\n",
    "if __name__ == '__main__':\n",
    "    app.run_server(debug=True)"
   ]
  },
  {
   "cell_type": "markdown",
   "metadata": {},
   "source": [
    "***\n",
    "Zadanie 2.\n",
    "***"
   ]
  },
  {
   "cell_type": "code",
   "execution_count": 12,
   "metadata": {},
   "outputs": [
    {
     "data": {
      "text/html": [
       "\n",
       "        <iframe\n",
       "            width=\"100%\"\n",
       "            height=\"650\"\n",
       "            src=\"http://127.0.0.1:8050/\"\n",
       "            frameborder=\"0\"\n",
       "            allowfullscreen\n",
       "            \n",
       "        ></iframe>\n",
       "        "
      ],
      "text/plain": [
       "<IPython.lib.display.IFrame at 0x1db97004d30>"
      ]
     },
     "metadata": {},
     "output_type": "display_data"
    }
   ],
   "source": [
    "import pandas as pd\n",
    "import plotly.express as px\n",
    "from dash import Dash,html,dcc,Output,Input\n",
    "\n",
    "df = pd.read_csv(\"lista_imion.csv\")\n",
    "\n",
    "px.defaults.template = \"plotly_white\"\n",
    "\n",
    "app = Dash(__name__)\n",
    "\n",
    "app.layout = html.Div([\n",
    "    html.Div(\"Najczesciej wystepujace imiona\"),\n",
    "    html.Label(\"Liczba imion do wyswietlenia:\"),\n",
    "    dcc.Slider(\n",
    "        id=\"liczba-imion-slider\",\n",
    "        min=3,\n",
    "        max=20,\n",
    "        step=1,\n",
    "        value=10,\n",
    "        marks={i:str(i) for i in range(3,21)}\n",
    "    ),\n",
    "    dcc.Graph(id=\"najczesciej-wystepujace-imiona\")\n",
    "])\n",
    "\n",
    "@app.callback(\n",
    "    Output(\"najczesciej-wystepujace-imiona\",\"figure\"),\n",
    "    [Input(\"liczba-imion-slider\",\"value\")]\n",
    ")\n",
    "def update_bar_chart(n):\n",
    "    \n",
    "    top_names = df.nlargest(n, 'LICZBA_WYSTĄPIEŃ')\n",
    "\n",
    "    fig = px.bar(top_names, x='IMIĘ_PIERWSZE', y='LICZBA_WYSTĄPIEŃ',\n",
    "                 labels={'IMIĘ_PIERWSZE': 'Imię', 'LICZBA_WYSTĄPIEŃ': 'Liczba wystąpień'},\n",
    "                 title=f\"Najczęściej występujące imiona (Top {n})\")\n",
    "\n",
    "    # Opisanie osi\n",
    "    fig.update_xaxes(title_text=\"Imię\")\n",
    "    fig.update_yaxes(title_text=\"Liczba wystąpień\")\n",
    "\n",
    "    return fig\n",
    "\n",
    "if __name__ == '__main__':\n",
    "    app.run_server(debug=True)"
   ]
  },
  {
   "cell_type": "markdown",
   "metadata": {},
   "source": [
    "***\n",
    "Zadanie 3.\n",
    "***"
   ]
  },
  {
   "cell_type": "code",
   "execution_count": 13,
   "metadata": {},
   "outputs": [
    {
     "data": {
      "text/html": [
       "\n",
       "        <iframe\n",
       "            width=\"100%\"\n",
       "            height=\"650\"\n",
       "            src=\"http://127.0.0.1:8050/\"\n",
       "            frameborder=\"0\"\n",
       "            allowfullscreen\n",
       "            \n",
       "        ></iframe>\n",
       "        "
      ],
      "text/plain": [
       "<IPython.lib.display.IFrame at 0x1db97862eb0>"
      ]
     },
     "metadata": {},
     "output_type": "display_data"
    }
   ],
   "source": [
    "import pandas as pd\n",
    "import plotly.express as px\n",
    "from dash import Dash, html, dcc, Output, Input\n",
    "import plotly.graph_objects as go\n",
    "\n",
    "\n",
    "df = pd.read_csv(\"prawa_jazdy.csv\")\n",
    "\n",
    "\n",
    "px.defaults.template = \"plotly_white\"\n",
    "\n",
    "\n",
    "wojewodztwa = df['WOJEWODZTWO'].unique()\n",
    "\n",
    "app = Dash(__name__)\n",
    "\n",
    "app.layout = html.Div([\n",
    "    html.Div(\"Histogram nowych praw jazdy\"),\n",
    "    html.Label(\"Wybierz województwo:\"),\n",
    "    dcc.Dropdown(\n",
    "        id=\"wojewodztwo-dropdown\",\n",
    "        options=[{'label': woj, 'value': woj} for woj in wojewodztwa],\n",
    "        value=wojewodztwa[0]  # Domyślne województwo\n",
    "    ),\n",
    "    dcc.Graph(id=\"histogram-praw-jazdy\")\n",
    "])\n",
    "\n",
    "@app.callback(\n",
    "    Output(\"histogram-praw-jazdy\", \"figure\"),\n",
    "    [Input(\"wojewodztwo-dropdown\", \"value\")]\n",
    ")\n",
    "def update_histogram(wojewodztwo):\n",
    "    \n",
    "    df_selected = df[df['WOJEWODZTWO'] == wojewodztwo]\n",
    "\n",
    "    \n",
    "    df_kobiety = df_selected[df_selected['PLEC'] == 'K']\n",
    "    df_mezczyzni = df_selected[df_selected['PLEC'] == 'M']\n",
    "\n",
    "    \n",
    "    fig = go.Figure()\n",
    "\n",
    "    fig.add_trace(go.Histogram(x=df_kobiety['WIEK'], name='Kobiety', marker_color='rgba(255, 0, 0, 0.6)'))\n",
    "    fig.add_trace(go.Histogram(x=df_mezczyzni['WIEK'], name='Mężczyźni', marker_color='rgba(0, 0, 255, 0.6)'))\n",
    "\n",
    "    \n",
    "    fig.update_layout(barmode='overlay',\n",
    "                      title=f\"Histogram nowych praw jazdy dla {wojewodztwo}\",\n",
    "                      xaxis=dict(title=\"Wiek\"),\n",
    "                      yaxis=dict(title=\"Liczba nowych praw jazdy\"))\n",
    "\n",
    "    return fig\n",
    "\n",
    "if __name__ == '__main__':\n",
    "    app.run_server(debug=True)\n"
   ]
  }
 ],
 "metadata": {
  "kernelspec": {
   "display_name": "Python 3",
   "language": "python",
   "name": "python3"
  },
  "language_info": {
   "codemirror_mode": {
    "name": "ipython",
    "version": 3
   },
   "file_extension": ".py",
   "mimetype": "text/x-python",
   "name": "python",
   "nbconvert_exporter": "python",
   "pygments_lexer": "ipython3",
   "version": "3.8.0"
  }
 },
 "nbformat": 4,
 "nbformat_minor": 2
}
